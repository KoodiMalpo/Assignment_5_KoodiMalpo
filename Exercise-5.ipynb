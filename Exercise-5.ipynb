{
 "cells": [
  {
   "cell_type": "markdown",
   "id": "151f3c5d-bbb4-4752-9773-300b9587553b",
   "metadata": {},
   "source": [
    "# Exercise 5\n",
    "\n",
    "Exercise 5 includes 2 tasks that you need to complete. Remember to save and commit your changes locally, and push your changes to GitHub after each major change! Regular commits will help you to keep track of your changes (and revert them if needed). Pushing your work to GitHub will ensure that you don't lose any work in case your computer crashes (can happen!).\n",
    "\n",
    "### Time allocation\n",
    "\n",
    "Completing this exercise takes approximately: 0.5-1.5 hour. \n",
    "\n",
    "### Due date\n",
    "\n",
    "You should submit (push) your Exercise answers to your personal Github repository **by Friday 13th December at 23:59**. \n",
    "      \n",
    "### Start your exercise in CSC Notebooks\n",
    "\n",
    "Before you can start programming, you need to launch the CSC Notebook instance and clone your **personal copy of the Exercise repository** (i.e. something like `exercise-5-htenkanen`) there using Git. If you need help with this, [read the documentation on the course site](https://introsda.readthedocs.io/en/latest/tutorials/git-basics.html).\n",
    "\n",
    "### Working with Jupyter Notebooks\n",
    "\n",
    "Jupyter Notebooks are documents that can be used and run inside the JupyterLab programming environment (e.g. at [noppe.csc.fi](https://noppe.csc.fi/)) containing the computer code and rich text elements (such as text, figures, tables and links). \n",
    "\n",
    "**A couple of hints**:\n",
    "\n",
    "- You can **execute a cell** by clicking a given cell that you want to run and pressing <kbd>Shift</kbd> + <kbd>Enter</kbd> (or by clicking the \"Play\" button on top)\n",
    "- You can **change the cell-type** between `Markdown` (for writing text) and `Code` (for writing/executing code) from the dropdown menu above. \n",
    "\n",
    "See [**further details and help from here**](https://pythongis.org/part1/chapter-01/nb/04-using-jupyterlab.html). \n",
    "\n",
    "### Working with Git/Github\n",
    "\n",
    "If you need help working with Git/Github related to the Exercise, please check the [Tutorial 0 on the course website](https://introsda.readthedocs.io/en/latest/tutorials/git-basics.html).\n",
    " \n",
    "### Hints \n",
    "\n",
    "If there are general questions arising from this exercise, we will add hints to the course website under [Exercise 4 description](https://introsda.readthedocs.io/en/latest/exercises/exercise-4.html). "
   ]
  },
  {
   "cell_type": "markdown",
   "id": "2c7089e0-8f9c-4bcb-bb21-1d6a05916043",
   "metadata": {},
   "source": [
    "## Task 1: Reply to the course feedback survey (5 points)\n",
    "\n",
    "The first task this week is to go to our MyCourses website and reply to the [**course feedback survey**](https://mycourses.aalto.fi/local/spark_service_plugin/dashboardView.php?targetKey=aalto-CUR-195092-2766454&targetType=1&lang=en#/aalto/surveys/1). This was the first time that the course was organized, so **we need feedback from you to help make the course better in the future**! "
   ]
  },
  {
   "cell_type": "markdown",
   "id": "259fd591-cfec-452c-86d2-186f862e492c",
   "metadata": {},
   "source": [
    "## Task 2: Course reflection (10 points)\n",
    "\n",
    "### Objective\n",
    "\n",
    "The purpose of this task is to encourage you to **reflect on your learning experience in this course**. This reflection will help you identify the topics that resonated with you, areas where you encountered challenges, and your overall growth in understanding spatial data analysis. Your feedback and reflections are valuable for improving the course in the future.\n",
    "\n",
    "### Format\n",
    "\n",
    "- Keep your response concise, clear, and well-organized.\n",
    "- Use complete sentences and provide examples or insights where relevant.\n",
    "\n",
    "### Questions\n",
    "\n",
    "Write a reflection that addresses the following aspects of the course. Your response should consist of 1–3 short paragraphs per topic and should cover the points below:\n",
    "\n",
    "#### Q1. Learning Experience\n",
    "\n",
    "- Reflect on what you have learned in this course.\n",
    "- How has your understanding of spatial data analysis evolved?\n",
    "- What new skills or concepts have you gained from the course topics, such as spatial analysis, geocomputation, raster analysis, spatial network analysis, multivariate spatial analysis, or geovisual analytics?\n",
    "\n",
    "#### Q2. Most Interesting Topics\n",
    "- Identify the topics or activities you found most engaging or intriguing.\n",
    "- Explain why these topics captured your interest. For instance, did they relate to your personal or professional goals, or were they especially insightful or challenging in a stimulating way?\n",
    "\n",
    "#### Q3. Challenges and Difficulties\n",
    "\n",
    "- Discuss the topics or concepts you found hard to understand or difficult to work with.\n",
    "- Reflect on what made these topics challenging—was it the theoretical concepts, the technical skills required, or something else?\n",
    "\n",
    "#### Q4. Suggestions and Takeaways (Optional)\n",
    "\n",
    "- Share any suggestions you have for improving the course.\n",
    "- Highlight your key takeaways and how you plan to apply what you’ve learned in the future."
   ]
  },
  {
   "cell_type": "markdown",
   "id": "70f1e611-2d55-41c8-9ed3-165f3c7aaa83",
   "metadata": {},
   "source": [
    "## Answers\n",
    "\n",
    "Please provide answers to the questions above below:\n",
    "\n",
    "### A1. Learning Experience\n",
    "\n",
    "I have learned to use GIS-software and spatial data analysis with python programming. In GIS-assignments, the instructions were clear and straightforward. In python, I learned geopython in spatial analysis which is important and i got some understanding why we need programming in analyzing spatial data and map making.\n",
    "My understanding of spatial data analysis has evolved a lot as I understand how to use different libraries and what do they mean. Also it was helpful to understand how to use Github and jupyter connected to each other.\n",
    "Skills I have learned are analysis of map data, comparing data, spatial analysis, changing from map system to computational system, map making\n",
    "\n",
    "### A2. Most interesting topics\n",
    "\n",
    "I found the GIS assignments to be most engaging as I like visualizations and making maps on my own. Also I don't really have a background in programming which made python hard at times. But I understand that programming is crucial part of spatial analysis and I was happy to learn it.\n",
    "GIS assignments captured my interest as I like to implement practical analysis and see my outcomes in a real-life map.\n",
    "\n",
    "### A3. Challenges and difficulties\n",
    "\n",
    "Python was hard to understand because I have no previous background.\n",
    "The concepts was quite easy to understand, but it was challenging how to write these codes properly.\n",
    "\n",
    "### A4. Suggestions and takeaways\n",
    "\n",
    "For me atleast, making the instructions more direct to the programming assingments or other way around wouldve helped me a lot."
   ]
  }
 ],
 "metadata": {
  "kernelspec": {
   "display_name": "Python 3",
   "language": "python",
   "name": "python3"
  },
  "language_info": {
   "codemirror_mode": {
    "name": "ipython",
    "version": 3
   },
   "file_extension": ".py",
   "mimetype": "text/x-python",
   "name": "python",
   "nbconvert_exporter": "python",
   "pygments_lexer": "ipython3",
   "version": "3.10.12"
  }
 },
 "nbformat": 4,
 "nbformat_minor": 5
}
